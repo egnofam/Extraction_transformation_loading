{
 "cells": [
  {
   "cell_type": "code",
   "execution_count": 1,
   "id": "33463c65-dfdc-4638-ae24-b56ef4dd0525",
   "metadata": {},
   "outputs": [],
   "source": [
    "import requests\n",
    "import pymssql"
   ]
  },
  {
   "cell_type": "code",
   "execution_count": 53,
   "id": "61e1cac5-5fdb-408d-b3a5-16745c664db7",
   "metadata": {},
   "outputs": [],
   "source": [
    "#server = \"DESKTOP-FIPLITD\\SQLEXPRESS.database.windows.net\"\n",
    "host='localhost'\n",
    "#server = r'DESKTOP-FIPLITD\\SQLEXPRESS.database.windows.net'\n",
    "server = r'DESKTOP-FIPLITD\\SQLEXPRESS'\n",
    "port = '51091'\n",
    "#user = \"gnof@DESKTOP-FIPLITD\\SQLEXPRESS\"\n",
    "#user = r'gnoflinh@DESKTOP-FIPLITD\\SQLEXPRESS'\n",
    "user = r'gnoflinh'\n",
    "password = 'gnoflinh'\n",
    "database = 'EmployeeManagement'"
   ]
  },
  {
   "cell_type": "code",
   "execution_count": 54,
   "id": "1a847a86-569c-4cb8-b2eb-2038f7e4211f",
   "metadata": {},
   "outputs": [],
   "source": [
    "conn = pymssql.connect(host=host,server=server,port=port, user=user,password=password )"
   ]
  },
  {
   "cell_type": "code",
   "execution_count": 55,
   "id": "5938d66d-e4cb-46a8-8fff-ace318cc1065",
   "metadata": {},
   "outputs": [],
   "source": [
    "cursor = conn.cursor()"
   ]
  },
  {
   "cell_type": "code",
   "execution_count": null,
   "id": "fc05a69c-bd45-473a-9645-515098355c80",
   "metadata": {},
   "outputs": [],
   "source": []
  },
  {
   "cell_type": "code",
   "execution_count": null,
   "id": "5037562d-f6ee-4a00-adb0-92c77095a56c",
   "metadata": {},
   "outputs": [],
   "source": []
  },
  {
   "cell_type": "code",
   "execution_count": 22,
   "id": "a57e4950-00f2-4e6f-a96d-eee06ae5775d",
   "metadata": {},
   "outputs": [],
   "source": [
    "from os import getenv\n",
    "import pymssql"
   ]
  },
  {
   "cell_type": "code",
   "execution_count": 23,
   "id": "1b5ae480-4e37-4bef-bd06-c173fa497a23",
   "metadata": {},
   "outputs": [],
   "source": [
    "server = getenv(\"PYMSSQL_TEST_SERVER\")"
   ]
  },
  {
   "cell_type": "code",
   "execution_count": 25,
   "id": "ed9ddb0e-5454-4360-bebf-ea0d9982dcf2",
   "metadata": {},
   "outputs": [],
   "source": [
    "server"
   ]
  },
  {
   "cell_type": "code",
   "execution_count": 26,
   "id": "45447313-5a83-45f6-9000-1062fb46ad52",
   "metadata": {},
   "outputs": [],
   "source": [
    "user = getenv(\"PYMSSQL_TEST_USERNAME\")"
   ]
  },
  {
   "cell_type": "code",
   "execution_count": 27,
   "id": "8bc910f6-2de3-44eb-aa07-7492741ed7b6",
   "metadata": {},
   "outputs": [],
   "source": [
    "user"
   ]
  },
  {
   "cell_type": "code",
   "execution_count": 28,
   "id": "d3ffc95e-5a6f-4d4a-8936-75e547c7634c",
   "metadata": {},
   "outputs": [],
   "source": [
    "password = getenv(\"PYMSSQL_TEST_PASSWORD\")"
   ]
  },
  {
   "cell_type": "code",
   "execution_count": 37,
   "id": "50cb7835-2b21-4014-a854-f6d5e02765d0",
   "metadata": {},
   "outputs": [],
   "source": [
    "#conn = pymssql.connect(server, user, password, \"EmployeeManagement\")"
   ]
  },
  {
   "cell_type": "code",
   "execution_count": null,
   "id": "ee43cba4-d7bd-4ad4-b583-3f253d29669e",
   "metadata": {},
   "outputs": [],
   "source": []
  },
  {
   "cell_type": "code",
   "execution_count": null,
   "id": "2a8ffa17-1c34-42ba-ae59-ea8440b7c599",
   "metadata": {},
   "outputs": [],
   "source": [
    "conn = pymssql.connect(\n",
    "    host=r'dbhostname\\myinstance',\n",
    "    user=r'companydomain\\username',\n",
    "    password=PASSWORD,\n",
    "    database='DatabaseOfInterest'\n",
    ")"
   ]
  },
  {
   "cell_type": "code",
   "execution_count": null,
   "id": "7c31033a-aa17-4cc7-8c4e-4e7cdf1bde9e",
   "metadata": {},
   "outputs": [],
   "source": []
  },
  {
   "cell_type": "code",
   "execution_count": null,
   "id": "8bcdbf90-1d9e-4b59-9133-229f371e654b",
   "metadata": {},
   "outputs": [],
   "source": []
  },
  {
   "cell_type": "code",
   "execution_count": null,
   "id": "b41df2fe-397c-4a74-8383-17b0bb81cf88",
   "metadata": {},
   "outputs": [],
   "source": []
  },
  {
   "cell_type": "code",
   "execution_count": 34,
   "id": "98648c3d-5cd7-44ea-bb64-28f5180a4d62",
   "metadata": {},
   "outputs": [],
   "source": [
    "#pymssql.connect(r'Driver=SQL Server;Server=DESKTOP-FIPLITD\\SQLEXPRESS;Database=EmployeeManagement;Trusted_Connection=yes;', autocommit=True)"
   ]
  },
  {
   "cell_type": "code",
   "execution_count": 35,
   "id": "8e6b1be0-02ea-432f-a236-d4c997dd2714",
   "metadata": {},
   "outputs": [],
   "source": [
    "#pymssql.connect()"
   ]
  },
  {
   "cell_type": "code",
   "execution_count": 39,
   "id": "1874dd90-e96a-4a8e-b503-312e0a1d3ad5",
   "metadata": {},
   "outputs": [
    {
     "ename": "OperationalError",
     "evalue": "(20009, b'DB-Lib error message 20009, severity 9:\\nUnable to connect: Adaptive Server is unavailable or does not exist (DESKTOP-FIPLITD)\\nDB-Lib error message 20009, severity 9:\\nUnable to connect: Adaptive Server is unavailable or does not exist (DESKTOP-FIPLITD)\\n')",
     "output_type": "error",
     "traceback": [
      "\u001b[1;31m---------------------------------------------------------------------------\u001b[0m",
      "\u001b[1;31mMSSQLDatabaseException\u001b[0m                    Traceback (most recent call last)",
      "\u001b[1;32msrc\\pymssql.pyx\u001b[0m in \u001b[0;36mpymssql.connect\u001b[1;34m()\u001b[0m\n",
      "\u001b[1;32msrc\\_mssql.pyx\u001b[0m in \u001b[0;36m_mssql.connect\u001b[1;34m()\u001b[0m\n",
      "\u001b[1;32msrc\\_mssql.pyx\u001b[0m in \u001b[0;36m_mssql.MSSQLConnection.__init__\u001b[1;34m()\u001b[0m\n",
      "\u001b[1;32msrc\\_mssql.pyx\u001b[0m in \u001b[0;36m_mssql.maybe_raise_MSSQLDatabaseException\u001b[1;34m()\u001b[0m\n",
      "\u001b[1;31mMSSQLDatabaseException\u001b[0m: (20009, b'DB-Lib error message 20009, severity 9:\\nUnable to connect: Adaptive Server is unavailable or does not exist (DESKTOP-FIPLITD)\\nDB-Lib error message 20009, severity 9:\\nUnable to connect: Adaptive Server is unavailable or does not exist (DESKTOP-FIPLITD)\\n')",
      "\nDuring handling of the above exception, another exception occurred:\n",
      "\u001b[1;31mOperationalError\u001b[0m                          Traceback (most recent call last)",
      "\u001b[1;32m<ipython-input-39-fb2fd260d61d>\u001b[0m in \u001b[0;36m<module>\u001b[1;34m\u001b[0m\n\u001b[1;32m----> 1\u001b[1;33m \u001b[0mconn\u001b[0m \u001b[1;33m=\u001b[0m \u001b[0mpymssql\u001b[0m\u001b[1;33m.\u001b[0m\u001b[0mconnect\u001b[0m\u001b[1;33m(\u001b[0m\u001b[0mserver\u001b[0m\u001b[1;33m=\u001b[0m\u001b[0mserver\u001b[0m\u001b[1;33m,\u001b[0m\u001b[0mport\u001b[0m\u001b[1;33m=\u001b[0m\u001b[0mport\u001b[0m\u001b[1;33m,\u001b[0m \u001b[0muser\u001b[0m\u001b[1;33m=\u001b[0m\u001b[0muser\u001b[0m\u001b[1;33m,\u001b[0m\u001b[0mpassword\u001b[0m\u001b[1;33m=\u001b[0m\u001b[0mpassword\u001b[0m\u001b[1;33m,\u001b[0m\u001b[0mdatabase\u001b[0m \u001b[1;33m=\u001b[0m \u001b[0mdatabase\u001b[0m \u001b[1;33m)\u001b[0m\u001b[1;33m\u001b[0m\u001b[1;33m\u001b[0m\u001b[0m\n\u001b[0m\u001b[0;32m      2\u001b[0m \u001b[1;31m#conn.autocommit(True)\u001b[0m\u001b[1;33m\u001b[0m\u001b[1;33m\u001b[0m\u001b[1;33m\u001b[0m\u001b[0m\n",
      "\u001b[1;32msrc\\pymssql.pyx\u001b[0m in \u001b[0;36mpymssql.connect\u001b[1;34m()\u001b[0m\n",
      "\u001b[1;31mOperationalError\u001b[0m: (20009, b'DB-Lib error message 20009, severity 9:\\nUnable to connect: Adaptive Server is unavailable or does not exist (DESKTOP-FIPLITD)\\nDB-Lib error message 20009, severity 9:\\nUnable to connect: Adaptive Server is unavailable or does not exist (DESKTOP-FIPLITD)\\n')"
     ]
    }
   ],
   "source": [
    "conn = pymssql.connect(server=server,port=port, user=user,password=password,database = database )\n",
    "#conn.autocommit(True)"
   ]
  },
  {
   "cell_type": "code",
   "execution_count": null,
   "id": "2fee149e-6863-4fa2-af85-75c52c11ba20",
   "metadata": {},
   "outputs": [],
   "source": []
  },
  {
   "cell_type": "code",
   "execution_count": null,
   "id": "e9b3060b-fdf8-4892-8eb7-ed9b2bb763eb",
   "metadata": {},
   "outputs": [],
   "source": []
  }
 ],
 "metadata": {
  "kernelspec": {
   "display_name": "Python 3",
   "language": "python",
   "name": "python3"
  },
  "language_info": {
   "codemirror_mode": {
    "name": "ipython",
    "version": 3
   },
   "file_extension": ".py",
   "mimetype": "text/x-python",
   "name": "python",
   "nbconvert_exporter": "python",
   "pygments_lexer": "ipython3",
   "version": "3.8.8"
  }
 },
 "nbformat": 4,
 "nbformat_minor": 5
}
